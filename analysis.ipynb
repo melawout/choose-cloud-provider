{
 "cells": [
  {
   "cell_type": "code",
   "execution_count": 53,
   "metadata": {},
   "outputs": [],
   "source": [
    "from main import run_etl\n",
    "import pandas as pd\n",
    "import matplotlib.pyplot as plt"
   ]
  },
  {
   "cell_type": "code",
   "execution_count": 54,
   "metadata": {},
   "outputs": [],
   "source": [
    "# run only once\n",
    "# run_etl()"
   ]
  },
  {
   "cell_type": "code",
   "execution_count": 55,
   "metadata": {},
   "outputs": [
    {
     "data": {
      "text/html": [
       "<div>\n",
       "<style scoped>\n",
       "    .dataframe tbody tr th:only-of-type {\n",
       "        vertical-align: middle;\n",
       "    }\n",
       "\n",
       "    .dataframe tbody tr th {\n",
       "        vertical-align: top;\n",
       "    }\n",
       "\n",
       "    .dataframe thead th {\n",
       "        text-align: right;\n",
       "    }\n",
       "</style>\n",
       "<table border=\"1\" class=\"dataframe\">\n",
       "  <thead>\n",
       "    <tr style=\"text-align: right;\">\n",
       "      <th></th>\n",
       "      <th>job_title</th>\n",
       "      <th>employer_name</th>\n",
       "      <th>job_publisher</th>\n",
       "      <th>job_employment_type</th>\n",
       "      <th>job_description</th>\n",
       "    </tr>\n",
       "  </thead>\n",
       "  <tbody>\n",
       "    <tr>\n",
       "      <th>0</th>\n",
       "      <td>Senior Cloud Solutions Engineer</td>\n",
       "      <td>Long View Systems</td>\n",
       "      <td>Trabajo.org</td>\n",
       "      <td>Full-time</td>\n",
       "      <td>About Long View Systems\\n\\nWe are proud of our...</td>\n",
       "    </tr>\n",
       "    <tr>\n",
       "      <th>1</th>\n",
       "      <td>Cloud Data Engineer</td>\n",
       "      <td>GTT, LLC</td>\n",
       "      <td>Trabajo.org</td>\n",
       "      <td>Full-time</td>\n",
       "      <td>We are seeking a talented Cloud Data Engineer ...</td>\n",
       "    </tr>\n",
       "    <tr>\n",
       "      <th>2</th>\n",
       "      <td>Senior Cloud Engineer</td>\n",
       "      <td>AIMCo (Alberta Investment Management Corporation)</td>\n",
       "      <td>Glassdoor</td>\n",
       "      <td>Full-time</td>\n",
       "      <td>CLOSING DATE:\\n\\nFebruary 15, 2025\\n\\nOpportun...</td>\n",
       "    </tr>\n",
       "    <tr>\n",
       "      <th>3</th>\n",
       "      <td>Cloud Security Engineer, Deloitte Global Techn...</td>\n",
       "      <td>Deloitte</td>\n",
       "      <td>LinkedIn</td>\n",
       "      <td>Full-time</td>\n",
       "      <td>Job Type: PermanentWork Model: RemoteReference...</td>\n",
       "    </tr>\n",
       "    <tr>\n",
       "      <th>4</th>\n",
       "      <td>AWS DevOps Specialist</td>\n",
       "      <td>Riva</td>\n",
       "      <td>Trabajo.org</td>\n",
       "      <td>Full-time</td>\n",
       "      <td>At Riva, we value diversity, equity, inclusion...</td>\n",
       "    </tr>\n",
       "  </tbody>\n",
       "</table>\n",
       "</div>"
      ],
      "text/plain": [
       "                                           job_title  \\\n",
       "0                    Senior Cloud Solutions Engineer   \n",
       "1                                Cloud Data Engineer   \n",
       "2                              Senior Cloud Engineer   \n",
       "3  Cloud Security Engineer, Deloitte Global Techn...   \n",
       "4                              AWS DevOps Specialist   \n",
       "\n",
       "                                       employer_name job_publisher  \\\n",
       "0                                  Long View Systems   Trabajo.org   \n",
       "1                                           GTT, LLC   Trabajo.org   \n",
       "2  AIMCo (Alberta Investment Management Corporation)     Glassdoor   \n",
       "3                                           Deloitte      LinkedIn   \n",
       "4                                               Riva   Trabajo.org   \n",
       "\n",
       "  job_employment_type                                    job_description  \n",
       "0           Full-time  About Long View Systems\\n\\nWe are proud of our...  \n",
       "1           Full-time  We are seeking a talented Cloud Data Engineer ...  \n",
       "2           Full-time  CLOSING DATE:\\n\\nFebruary 15, 2025\\n\\nOpportun...  \n",
       "3           Full-time  Job Type: PermanentWork Model: RemoteReference...  \n",
       "4           Full-time  At Riva, we value diversity, equity, inclusion...  "
      ]
     },
     "execution_count": 55,
     "metadata": {},
     "output_type": "execute_result"
    }
   ],
   "source": [
    "df = pd.read_csv(\"data.csv\")\n",
    "df.head()"
   ]
  },
  {
   "cell_type": "code",
   "execution_count": 56,
   "metadata": {},
   "outputs": [],
   "source": [
    "df['azure'] = df['job_description'].str.contains('azure', case=False, na=False).astype(int)\n",
    "df['aws'] = df['job_description'].str.contains('aws | amazon', case=False, na=False).astype(int)\n",
    "df['gcp'] = df['job_description'].str.contains('gcp | google cloud', case=False, na=False).astype(int)"
   ]
  },
  {
   "cell_type": "code",
   "execution_count": 57,
   "metadata": {},
   "outputs": [
    {
     "data": {
      "text/html": [
       "<div>\n",
       "<style scoped>\n",
       "    .dataframe tbody tr th:only-of-type {\n",
       "        vertical-align: middle;\n",
       "    }\n",
       "\n",
       "    .dataframe tbody tr th {\n",
       "        vertical-align: top;\n",
       "    }\n",
       "\n",
       "    .dataframe thead th {\n",
       "        text-align: right;\n",
       "    }\n",
       "</style>\n",
       "<table border=\"1\" class=\"dataframe\">\n",
       "  <thead>\n",
       "    <tr style=\"text-align: right;\">\n",
       "      <th></th>\n",
       "      <th>job_title</th>\n",
       "      <th>employer_name</th>\n",
       "      <th>job_publisher</th>\n",
       "      <th>job_employment_type</th>\n",
       "      <th>job_description</th>\n",
       "      <th>azure</th>\n",
       "      <th>aws</th>\n",
       "      <th>gcp</th>\n",
       "    </tr>\n",
       "  </thead>\n",
       "  <tbody>\n",
       "    <tr>\n",
       "      <th>2</th>\n",
       "      <td>Senior Cloud Engineer</td>\n",
       "      <td>AIMCo (Alberta Investment Management Corporation)</td>\n",
       "      <td>Glassdoor</td>\n",
       "      <td>Full-time</td>\n",
       "      <td>CLOSING DATE:\\n\\nFebruary 15, 2025\\n\\nOpportun...</td>\n",
       "      <td>1</td>\n",
       "      <td>0</td>\n",
       "      <td>0</td>\n",
       "    </tr>\n",
       "    <tr>\n",
       "      <th>3</th>\n",
       "      <td>Cloud Security Engineer, Deloitte Global Techn...</td>\n",
       "      <td>Deloitte</td>\n",
       "      <td>LinkedIn</td>\n",
       "      <td>Full-time</td>\n",
       "      <td>Job Type: PermanentWork Model: RemoteReference...</td>\n",
       "      <td>1</td>\n",
       "      <td>0</td>\n",
       "      <td>1</td>\n",
       "    </tr>\n",
       "    <tr>\n",
       "      <th>4</th>\n",
       "      <td>AWS DevOps Specialist</td>\n",
       "      <td>Riva</td>\n",
       "      <td>Trabajo.org</td>\n",
       "      <td>Full-time</td>\n",
       "      <td>At Riva, we value diversity, equity, inclusion...</td>\n",
       "      <td>0</td>\n",
       "      <td>1</td>\n",
       "      <td>0</td>\n",
       "    </tr>\n",
       "    <tr>\n",
       "      <th>6</th>\n",
       "      <td>Cloud DevOps Engineer and Python Automation</td>\n",
       "      <td>Aplin</td>\n",
       "      <td>Jooble</td>\n",
       "      <td>Full-time</td>\n",
       "      <td>If you are a talented and experienced Cloud De...</td>\n",
       "      <td>1</td>\n",
       "      <td>0</td>\n",
       "      <td>1</td>\n",
       "    </tr>\n",
       "    <tr>\n",
       "      <th>7</th>\n",
       "      <td>Senior Cloud and Full Stack Developer</td>\n",
       "      <td>Vantix Systems Inc.</td>\n",
       "      <td>Trabajo.org</td>\n",
       "      <td>Full-time</td>\n",
       "      <td>Position Overview\\n\\nVantix Systems Inc. is se...</td>\n",
       "      <td>1</td>\n",
       "      <td>1</td>\n",
       "      <td>0</td>\n",
       "    </tr>\n",
       "  </tbody>\n",
       "</table>\n",
       "</div>"
      ],
      "text/plain": [
       "                                           job_title  \\\n",
       "2                              Senior Cloud Engineer   \n",
       "3  Cloud Security Engineer, Deloitte Global Techn...   \n",
       "4                              AWS DevOps Specialist   \n",
       "6        Cloud DevOps Engineer and Python Automation   \n",
       "7              Senior Cloud and Full Stack Developer   \n",
       "\n",
       "                                       employer_name job_publisher  \\\n",
       "2  AIMCo (Alberta Investment Management Corporation)     Glassdoor   \n",
       "3                                           Deloitte      LinkedIn   \n",
       "4                                               Riva   Trabajo.org   \n",
       "6                                              Aplin        Jooble   \n",
       "7                                Vantix Systems Inc.   Trabajo.org   \n",
       "\n",
       "  job_employment_type                                    job_description  \\\n",
       "2           Full-time  CLOSING DATE:\\n\\nFebruary 15, 2025\\n\\nOpportun...   \n",
       "3           Full-time  Job Type: PermanentWork Model: RemoteReference...   \n",
       "4           Full-time  At Riva, we value diversity, equity, inclusion...   \n",
       "6           Full-time  If you are a talented and experienced Cloud De...   \n",
       "7           Full-time  Position Overview\\n\\nVantix Systems Inc. is se...   \n",
       "\n",
       "   azure  aws  gcp  \n",
       "2      1    0    0  \n",
       "3      1    0    1  \n",
       "4      0    1    0  \n",
       "6      1    0    1  \n",
       "7      1    1    0  "
      ]
     },
     "execution_count": 57,
     "metadata": {},
     "output_type": "execute_result"
    }
   ],
   "source": [
    "# remove rows with no mention of any cloud provider\n",
    "df_filtered = df[(df[\"azure\"] != 0) | (df[\"aws\"] != 0) | (df[\"gcp\"] != 0)]\n",
    "\n",
    "df_filtered.head()"
   ]
  },
  {
   "cell_type": "code",
   "execution_count": 58,
   "metadata": {},
   "outputs": [
    {
     "name": "stdout",
     "output_type": "stream",
     "text": [
      "  Cloud Provider  Count\n",
      "0          azure     19\n",
      "1            aws     11\n",
      "2            gcp      5\n"
     ]
    },
    {
     "data": {
      "image/png": "[encoded data removed]",
      "text/plain": [
       "<Figure size 640x480 with 1 Axes>"
      ]
     },
     "metadata": {},
     "output_type": "display_data"
    }
   ],
   "source": [
    "counts = df[[\"azure\", \"aws\", \"gcp\"]].sum().reset_index()\n",
    "counts.columns = [\"Cloud Provider\", \"Count\"]\n",
    "\n",
    "print(counts)\n",
    "\n",
    "# Create a bar chart using Matplotlib\n",
    "plt.bar(counts[\"Cloud Provider\"], counts[\"Count\"])\n",
    "plt.xlabel(\"Cloud Provider\")\n",
    "plt.show()"
   ]
  }
 ],
 "metadata": {
  "kernelspec": {
   "display_name": "venv",
   "language": "python",
   "name": "python3"
  },
  "language_info": {
   "codemirror_mode": {
    "name": "ipython",
    "version": 3
   },
   "file_extension": ".py",
   "mimetype": "text/x-python",
   "name": "python",
   "nbconvert_exporter": "python",
   "pygments_lexer": "ipython3",
   "version": "3.12.3"
  }
 },
 "nbformat": 4,
 "nbformat_minor": 2
}
